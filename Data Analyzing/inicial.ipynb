{
 "cells": [
  {
   "cell_type": "markdown",
   "metadata": {},
   "source": [
    "# Python Insights - Analyzing Data With Python\n",
    "    \n",
    "Customers Cancellations\n",
    "\n",
    "You were hired by a company with more than 800 thousand customers for a Data project. Recently the company realized that of it's total customer base, the majority are inactive customers, that is, those who already canceled the service.  \n",
    "\n",
    "Needing improve it's results, the company wants to be able to understand the main reasons for these cancellations and what are the most efficient actions to reduce this number.  "
   ]
  },
  {
   "cell_type": "code",
   "execution_count": null,
   "metadata": {},
   "outputs": [],
   "source": [
    "# %pip install pandas\n",
    "\n",
    "# 1 - Import database\n",
    "\n",
    "import pandas as pd\n",
    "\n",
    "table = pd.read_csv(\"cancellations.csv\")\n",
    "\n",
    "# 2 - Display the database\n",
    "# Useless Information \"CustomerID\" is a hindrance\n",
    "\n",
    "table = table.drop(columns=[\"CustomerID\"])  # Drop the column \"CustomerID\"\n",
    "display(table)"
   ]
  },
  {
   "cell_type": "code",
   "execution_count": null,
   "metadata": {},
   "outputs": [],
   "source": [
    "# 3 - Fix database's problemns (data treatment)\n",
    "# empty values\n",
    "table = table.dropna()  # \"dropna\"-> NaN values -> Not a number\n",
    "display(table.info()) "
   ]
  },
  {
   "cell_type": "code",
   "execution_count": null,
   "metadata": {},
   "outputs": [],
   "source": [
    "# 4 - Inicial Analysis\n",
    "# How many customers have canceled and how many % of customers?\n",
    "\n",
    "display(table[\"Canceled\"].value_counts()) # \"value_counts\" -> Count the number of each value\n",
    "\n",
    "#percentage\n",
    "display(table[\"Canceled\"].value_counts(normalize=True))\n"
   ]
  },
  {
   "cell_type": "code",
   "execution_count": null,
   "metadata": {},
   "outputs": [],
   "source": [
    "# 5 Analysis of reasons for customer cancellations\n",
    "# (compare the others columns with the \"Canceled\" column)\n",
    "import plotly.express as px\n",
    "\n",
    "for column in table.columns:\n",
    "    # create the graphic\n",
    "    graph = px.histogram(table, x=column, color=\"Canceled\", text_auto=True)  # \"histogram\" -> create a histogram\n",
    "\n",
    "    # show the graphic\n",
    "    graph.show()"
   ]
  },
  {
   "cell_type": "code",
   "execution_count": null,
   "metadata": {},
   "outputs": [],
   "source": [
    "# monthly contract users always cancel\n",
    "    # avoid monthly subscription and encourage (with discount) annual and quarterly signature \n",
    "\n",
    "# all users who called the call center more than 4 times, canceled the service\n",
    "    # create a process when a user calls the call center 3 times, creates a red alert\n",
    "\n",
    "# users who delayed the payment more than 20 days, canceled\n",
    "    # create a alert to call the user when the payment is delayed for 15 days, get in touch\n",
    "\n",
    "\n",
    "# Contract_duration -> except monthly\n",
    "condition = table[\"Contract_duration\"] != \"Monthly\"\n",
    "table = table[condition]\n",
    "\n",
    "# Calls_callcenter -> less than or equal to 4 calls\n",
    "condition = table[\"Calls_callcenter\"] <= 4\n",
    "table = table[condition]\n",
    "\n",
    "# Days_late -> less than or equal to 20 days\n",
    "condition = table[\"Days_late\"] <= 20\n",
    "table = table[condition]\n",
    "\n",
    "\n",
    "#percentage\n",
    "display(table[\"Canceled\"].value_counts(normalize=True))"
   ]
  }
 ],
 "metadata": {
  "kernelspec": {
   "display_name": ".venv",
   "language": "python",
   "name": "python3"
  },
  "language_info": {
   "codemirror_mode": {
    "name": "ipython",
    "version": 3
   },
   "file_extension": ".py",
   "mimetype": "text/x-python",
   "name": "python",
   "nbconvert_exporter": "python",
   "pygments_lexer": "ipython3",
   "version": "3.13.1"
  }
 },
 "nbformat": 4,
 "nbformat_minor": 2
}
